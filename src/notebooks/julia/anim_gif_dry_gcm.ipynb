{
 "cells": [
  {
   "cell_type": "markdown",
   "metadata": {},
   "source": [
    "Load modules"
   ]
  },
  {
   "cell_type": "code",
   "execution_count": null,
   "metadata": {},
   "outputs": [],
   "source": [
    "using Plots\n",
    "using NCDatasets\n",
    "using Statistics: mean"
   ]
  },
  {
   "cell_type": "markdown",
   "metadata": {},
   "source": [
    "Setup run-time enviromnent"
   ]
  },
  {
   "cell_type": "code",
   "execution_count": null,
   "metadata": {},
   "outputs": [
    {
     "data": {
      "text/plain": [
       "\"100\""
      ]
     },
     "execution_count": null,
     "metadata": {},
     "output_type": "execute_result"
    }
   ],
   "source": [
    "ENV[\"GKSwstype\"] = \"100\""
   ]
  },
  {
   "cell_type": "markdown",
   "metadata": {},
   "source": [
    "Specify needed directories and filenames: these will be replaced automatically by the bash run script or can be modified manually"
   ]
  },
  {
   "cell_type": "code",
   "execution_count": null,
   "metadata": {},
   "outputs": [],
   "source": [
    "CLIMA_NETCDF = \"../netcdf/\";"
   ]
  },
  {
   "cell_type": "markdown",
   "metadata": {},
   "source": [
    "Get the current and previous  GCM netcdf file names in the CLIMA_NETCDF directory"
   ]
  },
  {
   "cell_type": "code",
   "execution_count": null,
   "metadata": {},
   "outputs": [ ],
   "source": [
    "file_no = 5\n",
    "fnames = filter(x -> occursin(\".nc\", x), readdir( CLIMA_NETCDF ) );\n",
    "filename = \"$CLIMA_NETCDF\"fnames[file_no] # selects the last file on list\n",
    "plot_dir = fnames[file_no]*\"_plots/\"\n",
    "mkdir(plot_dir)\n",
    "\n",
    "println(size(fnames))\n",
    "println(filename)"
   ]
  },
  {
   "cell_type": "markdown",
   "metadata": {},
   "source": [
    "extract data"
   ]
  },
  {
   "cell_type": "code",
   "execution_count": null,
   "metadata": {},
   "outputs": [],
   "source": [
    "ds = NCDataset(filename, \"r\");\n",
    "lon = ds[\"long\"][:];\n",
    "lat = ds[\"lat\"][:];\n",
    "lev = ds[\"level\"][:] / 1e3; # height in kilometers\n",
    "time = ds[\"time\"][:];\n",
    "u = ds[\"u\"][:];\n",
    "v = ds[\"v\"][:];\n",
    "T = ds[\"temp\"][:];\n",
    "close(ds)\n",
    "\n",
    "# zonal mean:T and u at last diagnostic time\n",
    "time_index = length(time)\n",
    "u_zm = mean( u[:,:,:,:], dims=1)[1,:,:,:]; # lon, lat,lev, time\n",
    "T_zm = mean( T[:,:,:,:], dims=1)[1,:,:,:]; # lon, lat,lev, time\n",
    "v_zm = sqrt.(mean( v[:,:,:,:] .^ 2, dims=1)[1,:,:,:]); # lon, lat,lev, time\n",
    "\n",
    "plot1 = contourf( lat, lev, (u_zm[:,:,time_index])', title=\"u\", xlabel=\"lat (deg N)\", ylabel=\"z (km)\", linewidth = 0);\n",
    "plot_array = [plot1]\n",
    "plot2 = contourf( lat, lev, (T_zm[:,:,time_index])', title=\"T\", xlabel=\"lat (deg N)\", ylabel=\"z (km)\", linewidth = 0);\n",
    "push!(plot_array,plot2);\n",
    "plot3 = contourf( lat, lev, (v_zm[:,:,time_index])', title=\"sqrt(v^2)\", xlabel=\"lat (deg N)\", ylabel=\"z (km)\", linewidth = 0);\n",
    "push!(plot_array,plot3);\n",
    "fig=plot(plot_array... , layout=(1, 3), size=(1200, 400) )\n",
    "savefig(fig, plot_dir*\"zonal_mean.pdf\");\n",
    "display(fig)"
   ]
  },
  {
   "cell_type": "markdown",
   "metadata": {},
   "source": [
    "vertical slice of v at lev_index"
   ]
  },
  {
   "cell_type": "code",
   "execution_count": null,
   "metadata": {},
   "outputs": [],
   "source": [
    "lev_index = 31\n",
    "z_in_km = lev[lev_index]\n",
    "v_plot = contourf( lon, lat, (v[:,:,lev_index,time_index])', title=\"v @ $z_in_km\", xlabel=\"lon (deg)\", ylabel=\"lat (deg N)\", linewidth = 0);\n",
    "fig=plot(v_plot, layout=(1, 1), size=(800, 400) )\n",
    "savefig(fig, plot_dir*\"vertical_slice.pdf\");\n",
    "display(fig)"
   ]
  },
  {
   "cell_type": "code",
   "execution_count": null,
   "metadata": {},
   "outputs": [],
   "source": [
    "# Animation\n",
    "clims = (-10,10)\n",
    "diag_dt_days =  (time[2] - time[1]).value / (1000*60*60*24) # get simtime\n",
    "\n",
    "lev_index_tropos = 10\n",
    "lev_tropos = lev[lev_index_tropos]\n",
    "\n",
    "anim = @animate for t_i in 1:length(time)\n",
    "    plot_array = []\n",
    "    plot_zm = contourf( lat, lev, (v_zm[:,:,t_i])', title=\"sqrt(v^2)\", xlabel=\"lat (deg N)\", ylabel=\"z (km)\", clims = clims, linewidth=0);\n",
    "    push!(plot_array,plot_zm); \n",
    "    plot_h = contourf( lon, lat, (v[:,:,lev_index_tropos,t_i])', title=\"v @ $lev_tropos km\", xlabel=\"lon (deg)\", ylabel=\"lat (deg N)\", clims = clims, linewidth=0);\n",
    "    push!(plot_array,plot_h);  \n",
    "    time_=time[t_i]\n",
    "    plot_h = contourf( lon, lat, (v[:,:,lev_index,t_i])', title=\"v @ $z_in_km km @ $time_ s\", xlabel=\"lon (deg)\", ylabel=\"lat (deg N)\", clims = clims, linewidth=0);\n",
    "    push!(plot_array,plot_h);  \n",
    "    plot(plot_array..., layout=(1,3), size=(1200, 400) ) \n",
    "end\n",
    "mp4(anim, plot_dir*\"plot_y_slice_anim.gif\", fps = 7) # hide, mp4 is more flaky"
   ]
  },
  {
   "cell_type": "markdown",
   "metadata": {},
   "source": [
    "---\n",
    "\n",
    "*This notebook was generated using [Literate.jl](https://github.com/fredrikekre/Literate.jl).*"
   ]
  },
  {
   "cell_type": "code",
   "execution_count": null,
   "metadata": {},
   "outputs": [],
   "source": [
    "time[end]"
   ]
  },
  {
   "cell_type": "markdown",
   "metadata": {},
   "source": [
    "Crash times:\n",
    "- po=5,4 (CFL0.1): 6d\n",
    "- po=5,5 (CFL0.1): 10.5d\n",
    "- po=5,6 (CFL0.1): 18.5d\n",
    "- po=5,6 (CFL0.2): 15.5d"
   ]
  },
  {
   "cell_type": "code",
   "execution_count": null,
   "metadata": {},
   "outputs": [],
   "source": []
  },
  {
   "cell_type": "code",
   "execution_count": null,
   "metadata": {},
   "outputs": [],
   "source": []
  },
  {
   "cell_type": "code",
   "execution_count": null,
   "metadata": {},
   "outputs": [],
   "source": []
  }
 ],
 "metadata": {
  "kernelspec": {
   "display_name": "Julia 1.5.2",
   "language": "julia",
   "name": "julia-1.5"
  },
  "language_info": {
   "file_extension": ".jl",
   "mimetype": "application/julia",
   "name": "julia",
   "version": "1.5.2"
  }
 },
 "nbformat": 4,
 "nbformat_minor": 3
}
