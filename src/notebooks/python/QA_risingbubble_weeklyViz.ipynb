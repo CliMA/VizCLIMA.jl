{
 "cells": [
  {
   "cell_type": "code",
   "execution_count": null,
   "metadata": {
    "tags": [
     "parameters"
    ]
   },
   "outputs": [],
   "source": [
    "# Notebook Parameters\n",
    "output_dir = \"\"\n",
    "requirements_txt = \"\""
   ]
  },
  {
   "cell_type": "code",
   "execution_count": null,
   "metadata": {
    "tags": [
     "parameters"
    ]
   },
   "outputs": [],
   "source": [
    "# Google Colab Setup\n",
    "if \"google.colab\" in str(get_ipython()):\n",
    "    # mount google drive path\n",
    "    from google.colab import drive \n",
    "    drive.mount('/content/drive', force_remount=False)\n",
    "    # install project requirements.txt in colab env\n",
    "    if requirements_txt:\n",
    "        !pip install -r {requirements_txt}"
   ]
  },
  {
   "cell_type": "code",
   "execution_count": null,
   "metadata": {},
   "outputs": [],
   "source": [
    "import os, glob\n",
    "import numpy as np\n",
    "import netCDF4 as nc\n",
    "import matplotlib.pyplot as plt"
   ]
  },
  {
   "cell_type": "markdown",
   "metadata": {},
   "source": [
    "## setup path and load data"
   ]
  },
  {
   "cell_type": "code",
   "execution_count": null,
   "metadata": {},
   "outputs": [],
   "source": [
    "# if output_dir is not defined, fallback to climate machine settings or cwd\n",
    "if not output_dir:\n",
    "    output_dir = os.environ.get(\"CLIMATEMACHINE_SETTINGS_OUTPUT_DIR\", os.getcwd())\n",
    "\n",
    "# load aux diagnostics state\n",
    "nc_aux_datasets = glob.glob(os.path.join(output_dir, \"**\", \"RisingBubble_DumpAux*.nc\"), recursive=True)\n",
    "if not nc_aux_datasets:\n",
    "    raise Exception(\"No NetCDF DumpAux dataset found under path prefix: `{}`\".format(output_dir))\n",
    "print(nc_aux_datasets)\n",
    "\n",
    "# load diagnostics state\n",
    "nc_state_datasets = glob.glob(os.path.join(output_dir, \"**\", \"RisingBubble_DumpState*.nc\"), recursive=True)\n",
    "if not nc_state_datasets:\n",
    "    raise Exception(\"No NetCDF DumpState dataset found under path prefix: `{}`\".format(output_dir))\n",
    "print(nc_state_datasets)"
   ]
  },
  {
   "cell_type": "code",
   "execution_count": null,
   "metadata": {},
   "outputs": [],
   "source": [
    "# load data\n",
    "auxdata = nc.Dataset(nc_aux_datasets[0], \"r\");\n",
    "statedata = nc.Dataset(nc_state_datasets[0], \"r\");"
   ]
  },
  {
   "cell_type": "code",
   "execution_count": null,
   "metadata": {},
   "outputs": [],
   "source": [
    "t = statedata[\"time\"][:];\n",
    "x = statedata[\"x\"][:];\n",
    "y = statedata[\"y\"][:];\n",
    "z = statedata[\"z\"][:];\n",
    "\n",
    "xlen = len(x)\n",
    "ylen = len(y)\n",
    "zlen = len(z)\n",
    "\n",
    "ρ = statedata[\"ρ\"][:].mean(axis=2)\n",
    "ρ_ref = auxdata[\"ref_state.ρ\"][:].mean(axis=2)\n",
    "\n",
    "θ_v = auxdata[\"moisture.θ_v\"][:].mean(axis=2)\n",
    "\n",
    "ρ_a = ρ[:] - ρ_ref[:]\n",
    "b = -ρ_a/ρ[:]\n",
    "\n",
    "w = (statedata['ρu[3]'][:].mean(axis=2))/ρ[:]"
   ]
  },
  {
   "cell_type": "markdown",
   "metadata": {},
   "source": [
    "## check initial theta and density profile"
   ]
  },
  {
   "cell_type": "code",
   "execution_count": null,
   "metadata": {},
   "outputs": [],
   "source": [
    "fig, ax = plt.subplots(1,2,figsize=(12,5))\n",
    "\n",
    "C=ax[0].contourf(x,z, θ_v[0,:,:], cmap='RdBu_r')\n",
    "plt.colorbar(C, ax=ax[0])\n",
    "ax[0].set_title('initial theta')\n",
    "\n",
    "tm = abs(ρ_a[0,:,:]).max()\n",
    "C=ax[1].contourf(x,z, ρ_a[0,:,:], vmin=-tm, vmax=tm, cmap='RdBu_r')\n",
    "plt.colorbar(C, ax=ax[1])\n",
    "ax[1].set_title('initial density')\n",
    "\n",
    "plt.savefig('./risingbubble-initial.png', facecolor='w', transparent=False)"
   ]
  },
  {
   "cell_type": "markdown",
   "metadata": {},
   "source": [
    "## check snapshots of every 200 ssecs"
   ]
  },
  {
   "cell_type": "code",
   "execution_count": null,
   "metadata": {},
   "outputs": [],
   "source": [
    "fig, ax = plt.subplots(3,3,figsize=(18,15))\n",
    "\n",
    "for ii, it in enumerate(np.arange(1, 7, 2)):\n",
    "    \n",
    "    tm = abs(ρ_a[it,:,:]).max()\n",
    "    C=ax[0,ii].contourf(x,z, ρ_a[it,:,:], vmin=-tm, vmax=tm, cmap='RdBu_r')\n",
    "    plt.colorbar(C, ax=ax[0,ii])\n",
    "    ax[0,ii].set_title('density at t='+str(int(t[it]))+' sec')\n",
    "    \n",
    "    tm = abs(b[it,:,:]).max()\n",
    "    C=ax[1,ii].contourf(x,z, b[it,:,:], vmin=-tm, vmax=tm, cmap='RdBu_r')\n",
    "    plt.colorbar(C, ax=ax[1,ii])\n",
    "    ax[1,ii].set_title('buoyancy at t='+str(int(t[it]))+' sec')\n",
    "    \n",
    "    tm = abs(w[it,:,:]).max()\n",
    "    C=ax[2,ii].contourf(x,z, w[it,:,:], vmin=-tm, vmax=tm, cmap='RdBu_r')\n",
    "    plt.colorbar(C, ax=ax[2,ii])\n",
    "    ax[2,ii].set_title('w at t='+str(int(t[it]))+' sec')\n",
    "\n",
    "plt.savefig('./risingbubble-snapshots.png', facecolor='w', transparent=False)"
   ]
  },
  {
   "cell_type": "code",
   "execution_count": null,
   "metadata": {},
   "outputs": [],
   "source": []
  },
  {
   "cell_type": "code",
   "execution_count": null,
   "metadata": {},
   "outputs": [],
   "source": []
  }
 ],
 "metadata": {
  "kernelspec": {
   "display_name": "Python 3",
   "language": "python",
   "name": "python3"
  },
  "language_info": {
   "codemirror_mode": {
    "name": "ipython",
    "version": 3
   },
   "file_extension": ".py",
   "mimetype": "text/x-python",
   "name": "python",
   "nbconvert_exporter": "python",
   "pygments_lexer": "ipython3",
   "version": "3.8.6"
  }
 },
 "nbformat": 4,
 "nbformat_minor": 4
}
