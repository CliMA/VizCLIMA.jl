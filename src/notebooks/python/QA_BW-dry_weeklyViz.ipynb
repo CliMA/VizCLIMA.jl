{
 "cells": [
  {
   "cell_type": "code",
   "execution_count": null,
   "metadata": {
    "tags": [
     "parameters"
    ]
   },
   "outputs": [],
   "source": [
    "# Notebook parameters\n",
    "output_dir = \"\"\n",
    "requirements_txt = \"\""
   ]
  },
  {
   "cell_type": "markdown",
   "metadata": {},
   "source": [
    "## About the baroclinic wave test\n",
    "\n",
    "This is a canonical initial value test case for dry dynamical GCM cores (Jablonowski & Williamson, 2006), i.e. the model is run with a perturbation in the midlatitudes of one hemisphere, as an initial condition. No sources or sinks are applied, so the model is expected to crash eventually (in 30 days or so), but the evolution of the wave enables investigation of time-dependent physical behaviour. See references below for expected results and direct comparisons with other models. "
   ]
  },
  {
   "cell_type": "code",
   "execution_count": null,
   "metadata": {
    "tags": [
     "parameters"
    ]
   },
   "outputs": [],
   "source": [
    "# Google Colab Setup\n",
    "if \"google.colab\" in str(get_ipython()):\n",
    "    # mount google drive path\n",
    "    from google.colab import drive \n",
    "    drive.mount('/content/drive', force_remount=False)\n",
    "    # install project requirements.txt in colab env\n",
    "    if requirements_txt:\n",
    "        !pip install -r {requirements_txt}"
   ]
  },
  {
   "cell_type": "code",
   "execution_count": null,
   "metadata": {},
   "outputs": [],
   "source": [
    "import os, glob\n",
    "import numpy as np\n",
    "import netCDF4 as nc\n",
    "import matplotlib.pyplot as plt"
   ]
  },
  {
   "cell_type": "code",
   "execution_count": null,
   "metadata": {},
   "outputs": [],
   "source": [
    "# if output_dir is not defined, fallback to climate machine settings or cwd\n",
    "if not output_dir:\n",
    "    output_dir = os.environ.get(\"CLIMATEMACHINE_SETTINGS_OUTPUT_DIR\", os.getcwd())\n",
    "    \n",
    "nc_datasets = glob.glob(os.path.join(output_dir, \"**\", \"BaroclinicWave_AtmosGCMDefault*.nc\"), recursive=True)\n",
    "if not nc_datasets:\n",
    "    raise Exception(\"No NetCDF dataset found under path prefix: `{}`\".format(output_dir))\n",
    "print(nc_datasets)\n",
    "\n",
    "nc_datasets_s = glob.glob(os.path.join(output_dir, \"**\", \"BaroclinicWave_AtmosGCMSpectra*.nc\"), recursive=True)\n",
    "if not nc_datasets_s:\n",
    "    raise Exception(\"No NetCDF dataset found under path prefix: `{}`\".format(output_dir))\n",
    "print(nc_datasets_s)\n"
   ]
  },
  {
   "cell_type": "code",
   "execution_count": null,
   "metadata": {},
   "outputs": [],
   "source": [
    "data = nc.Dataset(nc_datasets[0],\"r\")\n",
    "data_s = nc.Dataset(nc_datasets_s[0],\"r\")\n",
    "\n",
    "data"
   ]
  },
  {
   "cell_type": "code",
   "execution_count": null,
   "metadata": {},
   "outputs": [],
   "source": [
    "lon = data[\"long\"][:].data\n",
    "lat = data[\"lat\"][:].data\n",
    "alt = data[\"level\"][:].data/1e3\n",
    "time = data[\"time\"][:].data\n",
    "\n",
    "alt_index_lo = np.where(alt==1.0)[0][0]\n",
    "print(alt[alt_index_lo])\n",
    "alt_index_hi = np.where(alt==10.0)[0][0]\n",
    "print(alt[alt_index_hi])\n",
    "alt_index_s = np.where(alt==4.0)[0][0]\n",
    "print(alt[alt_index_s])"
   ]
  },
  {
   "cell_type": "markdown",
   "metadata": {},
   "source": [
    "## Plots \n",
    "- upper-level lon/lat plots: u, v, vort\n",
    "- surface lon/lat plots: T, p \n",
    "- upper-level EKE power spectrum \n"
   ]
  },
  {
   "cell_type": "code",
   "execution_count": null,
   "metadata": {},
   "outputs": [],
   "source": [
    "fig_, ax_ = plt.subplots(6,3, figsize=(24,12))\n",
    "for ii,it in enumerate([6, 8, 10]):\n",
    "    u = data[\"u\"][it,alt_index_hi,:,:].data\n",
    "    v = data[\"v\"][it,alt_index_hi,:,:].data\n",
    "    T = data[\"temp\"][it,alt_index_lo,:,:].data\n",
    "    p = data[\"pres\"][it,alt_index_lo,:,:].data/1e2\n",
    "    p = p - p.mean(axis=1, keepdims=True)\n",
    "    vort = data[\"vort\"][it,alt_index_hi,:,:]*1e5\n",
    "    spec = data_s[\"spectrum_2d\"][it,alt_index_s,:,:].data\n",
    "    \n",
    "    C = ax_[0,ii].contourf(lon, lat, u, cmap = 'RdBu_r')\n",
    "    fig_.colorbar(C, ax=ax_[0,ii])\n",
    "    ax_[0,ii].set_title(\"u @%skm: Day %s\"%(alt[alt_index_hi],it))\n",
    "    \n",
    "    C = ax_[1,ii].contourf(lon, lat, v, cmap = 'RdBu_r')\n",
    "    fig_.colorbar(C, ax=ax_[1,ii])\n",
    "    ax_[1,ii].set_title(\"v @%skm\"%alt[alt_index_hi])\n",
    "    \n",
    "    C = ax_[2,ii].contourf(lon, lat, T, cmap = 'RdBu_r')\n",
    "    fig_.colorbar(C, ax=ax_[2,ii])\n",
    "    ax_[2,ii].set_title(\"temperature @%skm\"%alt[alt_index_lo])\n",
    "    \n",
    "    C = ax_[3,ii].contourf(lon, lat, p, cmap = 'RdBu_r')\n",
    "    fig_.colorbar(C, ax=ax_[3,ii])\n",
    "    ax_[3,ii].set_title(\"pressure ano @%skm\"%alt[alt_index_lo])\n",
    "\n",
    "    C = ax_[4,ii].contourf(lon, lat, vort, cmap = 'RdBu_r')\n",
    "    fig_.colorbar(C, ax=ax_[4,ii], )\n",
    "    ax_[4,ii].set_title(\"vorticity*1e5 @%skm\"%alt[alt_index_hi])\n",
    "\n",
    "    C = ax_[5,ii].plot(np.arange(1,np.shape(spec)[0]+1), np.sum(spec,axis=1))\n",
    "    ax_[5,ii].set_title(\"EKE power spectrum @%skm\"%alt[alt_index_hi])\n",
    "    plt.yscale(\"log\")\n",
    "    plt.xscale(\"log\")\n",
    "        \n",
    "    for jj in np.arange(5):\n",
    "        ax_[jj,ii].set_ylim([0, 90])\n",
    "        if jj<5:\n",
    "            ax_[jj,ii].set_xticklabels([])\n",
    "    \n",
    "#plt.show()\n",
    "plt.savefig('./BW_plot.png', facecolor='w', transparent=False)"
   ]
  },
  {
   "cell_type": "markdown",
   "metadata": {},
   "source": [
    "## References:\n",
    "- Jablonowski and Williamson (2006) https://pdfs.semanticscholar.org/cf27/9eab20507e284f4a22dd2134458adc2f0c08.pdf\n",
    "- Jablonowski and Williamson (2011) https://link.springer.com/chapter/10.1007/978-3-642-11640-7_13\n",
    "- Ullrich et al. (2013) https://rmets.onlinelibrary.wiley.com/doi/full/10.1002/qj.2241 "
   ]
  }
 ],
 "metadata": {
  "kernelspec": {
   "display_name": "Python 2",
   "language": "python",
   "name": "python2"
  },
  "language_info": {
   "codemirror_mode": {
    "name": "ipython",
    "version": 2
   },
   "file_extension": ".py",
   "mimetype": "text/x-python",
   "name": "python",
   "nbconvert_exporter": "python",
   "pygments_lexer": "ipython2",
   "version": "2.7.16"
  }
 },
 "nbformat": 4,
 "nbformat_minor": 4
}
