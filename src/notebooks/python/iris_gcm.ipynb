{
 "cells": [
  {
   "cell_type": "markdown",
   "metadata": {},
   "source": [
    "# CliMA GCM simple plot example\n",
    "\n",
    "- this notebook demonstrates simple plots from the GCM output, and the optional use of [Iris 2.4](https://scitools.org.uk/iris/docs/latest/) to manipulate the data. "
   ]
  },
  {
   "cell_type": "code",
   "execution_count": null,
   "metadata": {},
   "outputs": [],
   "source": [
    "# setup modules \n",
    "import numpy as np\n",
    "from netCDF4 import Dataset\n",
    "import iris\n",
    "from scipy import signal\n",
    "import iris.analysis.cartography\n",
    "import fnmatch\n",
    "import os\n",
    "from matplotlib import animation, rc\n",
    "from IPython.display import HTML\n",
    "\n",
    "import iris.plot as iplt\n",
    "import matplotlib.pyplot as plt\n",
    "import iris.quickplot as qplt\n"
   ]
  },
  {
   "cell_type": "markdown",
   "metadata": {},
   "source": [
    "## Combine files and extract data"
   ]
  },
  {
   "cell_type": "code",
   "execution_count": null,
   "metadata": {},
   "outputs": [],
   "source": [
    "# import data per variable\n",
    "file_name = 'your_file.nc'\n",
    "\n",
    "cubes_all = iris.load(file_name)\n",
    "\n",
    "print(cubes_all)"
   ]
  },
  {
   "cell_type": "code",
   "execution_count": null,
   "metadata": {},
   "outputs": [],
   "source": [
    "# coord info\n",
    "lo = cubes_all[5].coord('longitude')[:]\n",
    "la = cubes_all[5].coord('latitude')[:]\n",
    "ra = cubes_all[5].coord('level')[:]\n",
    "time = cubes_all[5].coord('time')[:]\n",
    "\n",
    "lat = np.array(la.points)\n",
    "lon = np.array(lo.points)\n",
    "rad = np.array(ra.points)\n",
    "\n",
    "\n",
    "u_cube = iris.load_cube(file_name,'eastward_wind')\n",
    "air_cube = iris.load_cube(file_name,'air_temperature')\n",
    "pot_air_cube = iris.load_cube(file_name,'air_potential_temperature')\n",
    "\n",
    "print(u_cube)\n"
   ]
  },
  {
   "cell_type": "markdown",
   "metadata": {},
   "source": [
    "## Zonal mean view"
   ]
  },
  {
   "cell_type": "markdown",
   "metadata": {},
   "source": [
    "### 1. Time mean plots"
   ]
  },
  {
   "cell_type": "code",
   "execution_count": null,
   "metadata": {},
   "outputs": [],
   "source": [
    "# temperature and zonal wind\n",
    "\n",
    "plt.figure(figsize=(15,4))\n",
    "plt.subplot(141)\n",
    "zonal_wind = u_cube.collapsed(['time','longitude'], iris.analysis.MEAN)\n",
    "\n",
    "qplt.contourf( zonal_wind ,20, coords=[\"latitude\",\"level\"])\n",
    "\n",
    "plt.subplot(142)\n",
    "air_temp = (air_cube[1]).collapsed(['time','longitude'], iris.analysis.MEAN)\n",
    "qplt.contourf(air_temp,20, coords=[\"latitude\",\"level\"])\n",
    "\n",
    "plt.subplot(143)\n",
    "pot_temp = (pot_air_cube[4]).collapsed(['time','longitude'], iris.analysis.MEAN)\n",
    "qplt.contourf(pot_temp,20, coords=[\"latitude\",\"level\"])\n",
    "\n",
    "plt.tight_layout()\n"
   ]
  },
  {
   "cell_type": "markdown",
   "metadata": {},
   "source": [
    "### 2. Animation"
   ]
  },
  {
   "cell_type": "code",
   "execution_count": null,
   "metadata": {},
   "outputs": [],
   "source": [
    "var_anim = u_cube.collapsed(['longitude'], iris.analysis.MEAN)\n",
    "print np.shape((var_anim.data))\n"
   ]
  },
  {
   "cell_type": "code",
   "execution_count": null,
   "metadata": {
    "scrolled": true
   },
   "outputs": [],
   "source": [
    "%%capture\n",
    "%matplotlib inline\n",
    "\n",
    "# Choose variable\n",
    "var_anim = u_cube.collapsed(['longitude'], iris.analysis.MEAN)\n",
    "\n",
    "print np.shape((var_anim.data))\n",
    "\n",
    "# Initialise plot\n",
    "rnge = np.arange(-20,21,1)                                   \n",
    "x,y = np.meshgrid(lat,rad)\n",
    "fig = plt.figure() \n",
    "plt.xlabel(r'lat')\n",
    "plt.ylabel(r'rad')\n",
    "init = plt.contourf(lat,rad, var_anim.data[0,:,:]*np.nan, rnge); plt.colorbar(init)\n",
    "\n",
    "t = np.array(time.points)/60./60./24.\n",
    "             \n",
    "# animation function\n",
    "def update(i): \n",
    "    var_one = var_anim.data[i,:,:]\n",
    "    cont = plt.contourf(lat,rad, var_one, rnge)\n",
    "    plt.title(r'day %s' %t[i])    \n",
    "    return cont  \n",
    "\n",
    "# create animatoin\n",
    "anim = animation.FuncAnimation(fig, update, frames = np.arange(len(t)), interval=200)\n",
    "\n",
    "# enable inline display in the notebook\n",
    "HTML(anim.to_jshtml())\n",
    "rc('animation', html='jshtml')"
   ]
  },
  {
   "cell_type": "code",
   "execution_count": null,
   "metadata": {},
   "outputs": [],
   "source": [
    "# display\n",
    "anim"
   ]
  },
  {
   "cell_type": "markdown",
   "metadata": {},
   "source": [
    "## Horizontal plane view"
   ]
  },
  {
   "cell_type": "code",
   "execution_count": null,
   "metadata": {},
   "outputs": [],
   "source": [
    "# e.g. get upper level, say 10 km altitude\n",
    "cube_upper = u_cube.extract(iris.Constraint(level=10000))\n",
    "\n",
    "print cube_upper"
   ]
  },
  {
   "cell_type": "markdown",
   "metadata": {},
   "source": [
    "### 1. Animation"
   ]
  },
  {
   "cell_type": "code",
   "execution_count": null,
   "metadata": {},
   "outputs": [],
   "source": [
    "%%capture\n",
    "%matplotlib inline\n",
    "\n",
    "# Choose variable and its range\n",
    "var_anim = cube_upper.data \n",
    "\n",
    "# pick the appropriate range for contourf\n",
    "rnge = np.linspace(-1,3,20) # u\n",
    "#rnge = np.linspace(310,340,20)# temp\n",
    "#rnge = np.linspace(-9e-6,9e-6,20)# vort\n",
    "\n",
    "# Initialise plot\n",
    "x,y = np.meshgrid(lon,lat)\n",
    "fig = plt.figure() \n",
    "plt.xlabel(r'lon')\n",
    "plt.ylabel(r'lat')\n",
    "init = plt.contourf(x, y, var_anim[0,:,:]*np.nan, rnge); plt.colorbar(init)\n",
    "\n",
    "t = np.array(time.points)/60./60./24.\n",
    "\n",
    "# animation function\n",
    "def update(i): \n",
    "    z = var_anim[i,:,:]\n",
    "    cont = plt.contourf(x, y, z, rnge)\n",
    "    plt.title(r'day %s' % t[i])    \n",
    "    return cont  \n",
    "\n",
    "# create animatoin\n",
    "anim = animation.FuncAnimation(fig, update, frames = np.arange(len(t)), interval=200)\n",
    "\n",
    "# enable inline display in the notebook\n",
    "HTML(anim.to_jshtml())\n",
    "rc('animation', html='jshtml')"
   ]
  },
  {
   "cell_type": "code",
   "execution_count": null,
   "metadata": {},
   "outputs": [],
   "source": [
    "# display\n",
    "anim"
   ]
  },
  {
   "cell_type": "markdown",
   "metadata": {},
   "source": [
    "### 2. Vorticity test\n",
    "- the voticity model output is calculated in DG space, allowing for more accurate gradient calculation. As a sanity check, here we compare it to vorticity calculated more crudely from velocities projected on the interpolated grid.\n",
    "- NB: ```iris.analysis.calculus``` offers a better functionality (e.g. curl func) but needs more tinkering"
   ]
  },
  {
   "cell_type": "code",
   "execution_count": null,
   "metadata": {},
   "outputs": [],
   "source": [
    "# reload cleanly the cube with all vars and get vort, u and v\n",
    "v_cube = iris.load_cube(file_name,'northward_wind')\n",
    "vort_cube = iris.load_cube(file_name,'vertical component of relative velocity')\n",
    "\n",
    "u_cube_up=u_cube.extract(iris.Constraint(level=10000))\n",
    "v_cube_up=v_cube.extract(iris.Constraint(level=10000))\n",
    "vort_cube_up=vort_cube.extract(iris.Constraint(level=10000))\n",
    "\n",
    "# select timestep to plot\n",
    "sel_time = -1\n",
    "\n",
    "lfn = len(file_names)\n",
    "u = (u_cube_up.data)[sel_time,:,:]\n",
    "v = (v_cube_up.data)[sel_time,:,:]\n",
    "vortrel = (vort_cube_up.data)[sel_time,:,:]\n",
    "\n",
    "# range for contourf\n",
    "rng = np.linspace(-1e-7,1e-7,20)\n"
   ]
  },
  {
   "cell_type": "code",
   "execution_count": null,
   "metadata": {},
   "outputs": [],
   "source": [
    "# plot \n",
    "plt.figure(figsize=(14,4))\n",
    "\n",
    "# DG vorticity\n",
    "plt.subplot(121)\n",
    "c = plt.contourf(lon,lat,(vortrel),rng)\n",
    "plt.ylabel('lat / deg')\n",
    "plt.xlabel('lon / deg')\n",
    "plt.colorbar(c)\n",
    "plt.title('rel vorticity (DG)')\n",
    "\n",
    "# compute and plot vorticity on spherical interpolated grid\n",
    "plt.subplot(122)\n",
    "coslat = np.cos(lat*np.pi/180.)\n",
    "dlat = np.abs(lat[2]-lat[1])\n",
    "dlon = np.abs(lon[2]-lon[1])\n",
    "vortrel_test = np.gradient( v/(6371000.*coslat[:,None]) ,dlon*np.pi/180.,axis=1) - np.gradient( u * coslat[:,None],dlat*np.pi/180.*6371000., axis=0)/coslat[:,None]\n",
    "c = plt.contourf(lon,lat,(vortrel_test),rng)\n",
    "plt.xlabel('lon / deg')\n",
    "plt.colorbar(c)\n",
    "plt.title('rel vorticity (interp grid)')\n",
    "plt.tight_layout()\n",
    "\n",
    "# add a plot of u and v for reference\n",
    "plt.figure(figsize=(14,4))\n",
    "plt.subplot(121)\n",
    "c = plt.contourf(lon,lat,(np.array(u)[:,:]),20)\n",
    "plt.ylabel('lat / deg')\n",
    "plt.xlabel('lon / deg')\n",
    "plt.colorbar(c)\n",
    "plt.title('u')\n",
    "plt.subplot(122)\n",
    "c = plt.contourf(lon,lat,(np.array(v)[:,:]),20)\n",
    "plt.ylabel('lat / deg')\n",
    "plt.xlabel('lon / deg')\n",
    "plt.colorbar(c)\n",
    "plt.title('v')"
   ]
  },
  {
   "cell_type": "code",
   "execution_count": null,
   "metadata": {},
   "outputs": [],
   "source": []
  }
 ],
 "metadata": {
  "kernelspec": {
   "display_name": "Python 2",
   "language": "python",
   "name": "python2"
  },
  "language_info": {
   "codemirror_mode": {
    "name": "ipython",
    "version": 2
   },
   "file_extension": ".py",
   "mimetype": "text/x-python",
   "name": "python",
   "nbconvert_exporter": "python",
   "pygments_lexer": "ipython2",
   "version": "2.7.16"
  }
 },
 "nbformat": 4,
 "nbformat_minor": 2
}
