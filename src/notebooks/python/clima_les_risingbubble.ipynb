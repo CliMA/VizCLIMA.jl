{
 "cells": [
  {
   "cell_type": "markdown",
   "metadata": {},
   "source": [
    "# State and Aux Variables in the Rising Bubble Experiment"
   ]
  },
  {
   "cell_type": "code",
   "execution_count": null,
   "metadata": {},
   "outputs": [],
   "source": [
    "# load modules\n",
    "import numpy as np\n",
    "import netCDF4 as nc\n",
    "import matplotlib.pyplot as plt"
   ]
  },
  {
   "cell_type": "markdown",
   "metadata": {},
   "source": [
    "## setup path and load data"
   ]
  },
  {
   "cell_type": "code",
   "execution_count": null,
   "metadata": {},
   "outputs": [],
   "source": [
    "# load data\n",
    "data_folder = \"/central/scratch/jiahe/les_risingubble/netcdf/\";\n",
    "analysis_folder = \"/central/scratch/jiahe/les_risingubble/analysis/\";\n",
    "\n",
    "auxdata = nc.Dataset(data_folder+\"DryRisingBubble_DumpAux-2020-06-26T17.06.46.03.nc\", \"r\");\n",
    "statedata = nc.Dataset(data_folder+\"DryRisingBubble_DumpState-2020-06-26T17.06.46.03.nc\", \"r\");"
   ]
  },
  {
   "cell_type": "code",
   "execution_count": null,
   "metadata": {},
   "outputs": [],
   "source": [
    "t = statedata[\"time\"][:];\n",
    "x = statedata[\"x\"][:];\n",
    "y = statedata[\"y\"][:];\n",
    "z = statedata[\"z\"][:];\n",
    "\n",
    "xlen = len(x)\n",
    "ylen = len(y)\n",
    "zlen = len(z)\n",
    "\n",
    "ρ = statedata[\"ρ\"][:].mean(axis=2)\n",
    "ρ_ref = auxdata[\"ref_state.ρ\"][:].mean(axis=2)\n",
    "\n",
    "θ_v = auxdata[\"moisture.θ_v\"][:].mean(axis=2)\n",
    "\n",
    "ρ_a = ρ[:] - ρ_ref[:]\n",
    "b = -ρ_a/ρ[:]\n",
    "\n",
    "w = (statedata['ρu[3]'][:].mean(axis=2))/ρ[:]"
   ]
  },
  {
   "cell_type": "markdown",
   "metadata": {},
   "source": [
    "## check initial theta and density profile"
   ]
  },
  {
   "cell_type": "code",
   "execution_count": null,
   "metadata": {},
   "outputs": [],
   "source": [
    "fig, ax = plt.subplots(1,2,figsize=(12,5))\n",
    "\n",
    "C=ax[0].contourf(x,z, θ_v[0,:,:], cmap='RdBu_r')\n",
    "plt.colorbar(C, ax=ax[0])\n",
    "ax[0].set_title('initial theta')\n",
    "\n",
    "tm = abs(ρ_a[0,:,:]).max()\n",
    "C=ax[1].contourf(x,z, ρ_a[0,:,:], vmin=-tm, vmax=tm, cmap='RdBu_r')\n",
    "plt.colorbar(C, ax=ax[1])\n",
    "ax[1].set_title('initial density')\n",
    "\n",
    "plt.savefig(analysis_folder+\"initial-profile.pdf\")\n",
    "plt.show()\n"
   ]
  },
  {
   "cell_type": "markdown",
   "metadata": {},
   "source": [
    "## check snapshots of every 20 steps"
   ]
  },
  {
   "cell_type": "code",
   "execution_count": null,
   "metadata": {},
   "outputs": [],
   "source": [
    "fig, ax = plt.subplots(3,4,figsize=(24,15))\n",
    "\n",
    "for ii, it in enumerate(np.arange(1, 80, 20)):\n",
    "    \n",
    "    tm = abs(ρ_a[it,:,:]).max()\n",
    "    C=ax[0,ii].contourf(x,z, ρ_a[it,:,:], vmin=-tm, vmax=tm, cmap='RdBu_r')\n",
    "    plt.colorbar(C, ax=ax[0,ii])\n",
    "    ax[0,ii].set_title('density at t='+str(int(t[it]))+' sec')\n",
    "    \n",
    "    tm = abs(b[it,:,:]).max()\n",
    "    C=ax[1,ii].contourf(x,z, b[it,:,:], vmin=-tm, vmax=tm, cmap='RdBu_r')\n",
    "    plt.colorbar(C, ax=ax[1,ii])\n",
    "    ax[1,ii].set_title('buoyancy at t='+str(int(t[it]))+' sec')\n",
    "    \n",
    "    tm = abs(w[it,:,:]).max()\n",
    "    C=ax[2,ii].contourf(x,z, w[it,:,:], vmin=-tm, vmax=tm, cmap='RdBu_r')\n",
    "    plt.colorbar(C, ax=ax[2,ii])\n",
    "    ax[2,ii].set_title('w at t='+str(int(t[it]))+' sec')\n",
    "\n",
    "plt.savefig(analysis_folder+\"snapshots-profile.pdf\")\n",
    "plt.show()\n"
   ]
  },
  {
   "cell_type": "code",
   "execution_count": null,
   "metadata": {},
   "outputs": [],
   "source": []
  }
 ],
 "metadata": {
  "kernelspec": {
   "display_name": "Python 2",
   "language": "python",
   "name": "python2"
  },
  "language_info": {
   "codemirror_mode": {
    "name": "ipython",
    "version": 2
   },
   "file_extension": ".py",
   "mimetype": "text/x-python",
   "name": "python",
   "nbconvert_exporter": "python",
   "pygments_lexer": "ipython2",
   "version": "2.7.16"
  }
 },
 "nbformat": 4,
 "nbformat_minor": 4
}
